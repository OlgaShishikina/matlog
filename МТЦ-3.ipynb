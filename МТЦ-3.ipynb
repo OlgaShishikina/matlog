{
 "cells": [
  {
   "cell_type": "code",
   "execution_count": 3,
   "metadata": {},
   "outputs": [],
   "source": [
    "import numpy as np\n",
    "import matplotlib.pyplot as plt\n",
    "import math\n",
    "v = [3500,4000,6000,2300,4200]\n",
    "t=[5,8.5,8.5,5,5]\n",
    "x=[25,10,72,85,65]\n",
    "y=[78,34,88,50,18]\n",
    "e=[1,1,1,1,1]"
   ]
  },
  {
   "cell_type": "markdown",
   "metadata": {},
   "source": [
    "для удобства расчета координат"
   ]
  },
  {
   "cell_type": "code",
   "execution_count": 4,
   "metadata": {},
   "outputs": [
    {
     "name": "stdout",
     "output_type": "stream",
     "text": [
      "[437500, 340000.0, 3672000.0, 977500, 1365000] [1365000, 1156000.0, 4488000.0, 575000, 378000] [17500, 34000.0, 51000.0, 11500, 21000]\n",
      "6792000.0 7962000.0 135000.0\n"
     ]
    }
   ],
   "source": [
    "def a_b_c(a,b,c):\n",
    "    abc=[]\n",
    "    for i in range(len(a)):\n",
    "                 abc.append(a[i]*b[i]*c[i]) \n",
    "    return (abc)\n",
    "xvt,yvt,vt=a_b_c(x,v,t),a_b_c(y,v,t),a_b_c(e,v,t)\n",
    "print(xvt,yvt,vt)\n",
    "s1,s2,s3=sum(xvt),sum(yvt),sum(vt)\n",
    "print (s1,s2,s3)\n",
    "\n",
    "\n",
    "\n",
    "\n",
    "\n",
    "\n"
   ]
  },
  {
   "cell_type": "markdown",
   "metadata": {},
   "source": [
    "начальные  значения склада"
   ]
  },
  {
   "cell_type": "code",
   "execution_count": 5,
   "metadata": {},
   "outputs": [
    {
     "name": "stdout",
     "output_type": "stream",
     "text": [
      "50.31111111111111 58.977777777777774\n"
     ]
    }
   ],
   "source": [
    "x0=s1/s3\n",
    "y0=s2/s3\n",
    "print (x0,y0)"
   ]
  },
  {
   "cell_type": "code",
   "execution_count": 6,
   "metadata": {},
   "outputs": [],
   "source": [
    "xarr,yarr=[],[]\n",
    "xarr.append(x0)\n",
    "yarr.append(y0)"
   ]
  },
  {
   "cell_type": "markdown",
   "metadata": {},
   "source": [
    "расстояние между складом и объектами"
   ]
  },
  {
   "cell_type": "code",
   "execution_count": 7,
   "metadata": {},
   "outputs": [
    {
     "name": "stdout",
     "output_type": "stream",
     "text": [
      "[31.662237507014844, 47.42230552944885, 36.23116454035969, 35.83182253490379, 43.53092841182073]\n"
     ]
    }
   ],
   "source": [
    "def dist (x,y,x0,y0):\n",
    "    r=[]\n",
    "    for i in range(len(x)):\n",
    "                 r.append(math.sqrt((x[i]-x0)**2+(y[i]-y0)**2)) \n",
    "    return (r)\n",
    "print (dist (x,y,x0,y0))\n",
    "r=dist (x,y,x0,y0)"
   ]
  },
  {
   "cell_type": "markdown",
   "metadata": {},
   "source": [
    "вычислим v_i*t_i*r_0i , (x_i*v_i*t_i)/r_0i, (y_i*v_i*t_i)/r_0i,  (v_i*t_i)/r_0i, "
   ]
  },
  {
   "cell_type": "code",
   "execution_count": 8,
   "metadata": {},
   "outputs": [
    {
     "name": "stdout",
     "output_type": "stream",
     "text": [
      "[554089.1563727597, 1612358.3880012608, 1847789.3915583442, 412065.9591513936, 914149.4966482354]\n",
      "[5340452.391731994]\n"
     ]
    }
   ],
   "source": [
    "vtr=a_b_c(v,t,r)\n",
    "print (vtr)\n",
    "TC=sum(vtr)\n",
    "total=[]\n",
    "total.append(TC)\n",
    "print(total)\n"
   ]
  },
  {
   "cell_type": "code",
   "execution_count": 9,
   "metadata": {},
   "outputs": [
    {
     "name": "stdout",
     "output_type": "stream",
     "text": [
      "[13817.72213360066, 7169.621894255287, 101349.21266219796, 27280.21995107329, 31357.015570321197]\n",
      "[43111.29305683406, 24376.714440467975, 123871.25992046416, 16047.1882065137, 8683.481234858178]\n",
      "[552.7088853440264, 716.9621894255287, 1407.6279536416382, 320.943764130274, 482.41562415878764]\n"
     ]
    }
   ],
   "source": [
    "def a_b_c_d (abc,d):\n",
    "    abcd=[]\n",
    "    for i in range(len(abc)):\n",
    "        abcd.append(abc[i]/d[i])\n",
    "    return (abcd)  \n",
    "xvtr=a_b_c_d(xvt,r)\n",
    "yvtr=a_b_c_d(yvt,r)\n",
    "vt_r=a_b_c_d(vt,r)\n",
    "print (xvtr)\n",
    "print (yvtr)\n",
    "print (vt_r)\n",
    "\n",
    "\n",
    "        \n",
    "    \n",
    "    \n",
    "    "
   ]
  },
  {
   "cell_type": "code",
   "execution_count": null,
   "metadata": {},
   "outputs": [],
   "source": [
    "\n"
   ]
  },
  {
   "cell_type": "code",
   "execution_count": 10,
   "metadata": {},
   "outputs": [
    {
     "name": "stdout",
     "output_type": "stream",
     "text": [
      "180973.7922114484 216089.9368591381 3480.6584167002547\n"
     ]
    }
   ],
   "source": [
    "s11=sum(xvtr)\n",
    "\n",
    "s22=sum(yvtr)\n",
    "\n",
    "s33=sum(vt_r)\n",
    "print (s11,s22,s33)"
   ]
  },
  {
   "cell_type": "code",
   "execution_count": 11,
   "metadata": {},
   "outputs": [
    {
     "name": "stdout",
     "output_type": "stream",
     "text": [
      "новые координаты 51.994125980054015 62.0830633142095\n"
     ]
    }
   ],
   "source": [
    "x01=s11/s33\n",
    "y01=s22/s33\n",
    "print ('новые координаты',x01,y01)\n",
    "xarr.append(x01)\n",
    "yarr.append(y01)"
   ]
  },
  {
   "cell_type": "code",
   "execution_count": 12,
   "metadata": {},
   "outputs": [
    {
     "name": "stdout",
     "output_type": "stream",
     "text": [
      "расстояние между складом и объектами= [31.337385195425778, 50.51895745102572, 32.740229114611026, 35.14808869449007, 45.961606044472695]\n",
      "совокупные затраты = 5340452.391731994 руб/год\n",
      "v*t*r= [548404.2409199511, 1717644.5533348746, 1669751.6848451623, 404203.01998663583, 965193.7269339266]\n",
      "новые координаты 53.27244937738118 63.83621003344827\n",
      "расстояние между складом и объектами= [31.621896527772854, 52.56143362084082, 30.571390185439338, 34.613265904859865, 47.31272126856022]\n",
      "совокупные затраты = 5305197.22602055 руб/год\n",
      "v*t*r= [553383.189236025, 1787088.743108588, 1559140.8994574063, 398052.5579058885, 993567.1466397645]\n",
      "новые координаты 54.19180798955808 64.90836528003709\n",
      "расстояние между складом и объектами= [31.99300788203831, 53.92812751867221, 29.160852126111887, 34.225780491834996, 48.13742564554081]\n",
      "совокупные затраты = 5291232.536347672 руб/год\n",
      "v*t*r= [559877.6379356704, 1833556.3356348553, 1487203.4584317063, 393596.47565610247, 1010885.9385563569]\n",
      "новые координаты 54.83597804951786 65.60771058296926\n",
      "расстояние между складом и объектами= [32.307188413211755, 54.85719912603627, 28.213795824962997, 33.962756806108935, 48.680606499525524]\n",
      "совокупные затраты = 5285119.846214692 руб/год\n",
      "v*t*r= [565375.7972312057, 1865144.7702852332, 1438903.5870731128, 390571.70327025274, 1022292.736490036]\n",
      "новые координаты 55.28371041298247 66.08303390407497\n",
      "расстояние между складом и объектами= [32.54408083367557, 55.49716653358873, 27.56424750300574, 33.78937475567003, 49.05491242229679]\n",
      "совокупные затраты = 5282288.594349841 руб/год\n",
      "v*t*r= [569521.4145893225, 1886903.662142017, 1405776.6226532927, 388577.8096902054, 1030153.1608682325]\n",
      "новые координаты 55.595397690458185 66.41368276344033\n",
      "расстояние между складом и объектами= [32.715762362254274, 55.94271284841296, 27.1123600738043, 33.67550473031058, 49.31867012926929]\n",
      "совокупные затраты = 5280932.66994307 руб/год\n",
      "v*t*r= [572525.8413394497, 1902052.2368460407, 1382730.3637640192, 387268.30439857166, 1035692.0727146552]\n",
      "новые координаты 55.81354497365948 66.64662522396917\n",
      "расстояние между складом и объектами= [32.838600345458524, 56.25551565462554, 26.79492378502641, 33.59998940999661, 49.50641475235598]\n",
      "совокупные затраты = 5280268.819062736 руб/год\n",
      "v*t*r= [574675.5060455241, 1912687.5322572684, 1366541.1130363469, 386399.87821496103, 1039634.7097994756]\n",
      "новые координаты 55.96714131283653 66.811906394324\n",
      "расстояние между складом и объектами= [32.92623998604389, 56.4765374443597, 26.570432219394576, 33.54917406077705, 49.64065613900075]\n",
      "совокупные затраты = 5279938.739353577 руб/год\n",
      "v*t*r= [576209.1997557681, 1920202.2731082297, 1355092.0431891233, 385815.50169893604, 1042453.7789190157]\n",
      "новые координаты 56.07585909823448 66.9296795471055\n",
      "расстояние между складом и объектами= [32.98880133656113, 56.63345819138555, 26.410919473712877, 33.514474133915144, 49.73684581290814]\n",
      "совокупные затраты = 5279772.796671073 руб/год\n",
      "v*t*r= [577304.0233898198, 1925537.5785071086, 1346956.8931593567, 385416.4525400241, 1044473.762071071]\n",
      "новые координаты 56.153134267749174 67.01382848332247\n",
      "расстояние между складом и объектами= [33.03352447587548, 56.745261245879526, 26.297196589435018, 33.49047659013562, 49.80584720569491]\n",
      "совокупные затраты = 5279688.709667381 руб/год\n",
      "v*t*r= [578086.678327821, 1929338.8823599038, 1341157.0260611859, 385140.48078655964, 1045922.7913195931]\n",
      "новые координаты 56.20823461661167 67.07406280699492\n",
      "[5340452.391731994, 5305197.22602055, 5291232.536347672, 5285119.846214692, 5282288.594349841, 5280932.66994307, 5280268.819062736, 5279938.739353577, 5279772.796671073, 5279688.709667381, 5279645.858855062]\n",
      "11\n"
     ]
    }
   ],
   "source": [
    "\n",
    "for i in range (0,10):\n",
    "    r_new=dist (x,y,x01,y01)\n",
    "    print ('расстояние между складом и объектами=',r_new)\n",
    "    vtr=a_b_c(v,t,r_new)\n",
    "    print ('совокупные затраты =',TC,'руб/год')\n",
    "    TC=sum(vtr)\n",
    "    print ('v*t*r=',vtr)\n",
    "    total.append(TC)\n",
    "    xvtr=a_b_c_d (xvt,r_new)\n",
    "    yvtr=a_b_c_d (yvt,r_new)\n",
    "    vt_r=a_b_c_d (vt,r_new)\n",
    "    s11=sum(xvtr)\n",
    "    s22=sum(yvtr)\n",
    "    s33=sum(vt_r)\n",
    "    x01=s11/s33\n",
    "    y01=s22/s33\n",
    "    xarr.append(x01)\n",
    "    yarr.append(y01)\n",
    "    print ('новые координаты',x01,y01)\n",
    "print (total) \n",
    "print (len(total) )\n",
    "\n",
    "\n",
    "\n",
    "\n"
   ]
  },
  {
   "cell_type": "code",
   "execution_count": 13,
   "metadata": {},
   "outputs": [
    {
     "data": {
      "text/plain": [
       "[50.31111111111111,\n",
       " 51.994125980054015,\n",
       " 53.27244937738118,\n",
       " 54.19180798955808,\n",
       " 54.83597804951786,\n",
       " 55.28371041298247,\n",
       " 55.595397690458185,\n",
       " 55.81354497365948,\n",
       " 55.96714131283653,\n",
       " 56.07585909823448,\n",
       " 56.153134267749174,\n",
       " 56.20823461661167]"
      ]
     },
     "execution_count": 13,
     "metadata": {},
     "output_type": "execute_result"
    }
   ],
   "source": [
    "xarr\n"
   ]
  },
  {
   "cell_type": "code",
   "execution_count": 14,
   "metadata": {},
   "outputs": [
    {
     "data": {
      "text/plain": [
       "[58.977777777777774,\n",
       " 62.0830633142095,\n",
       " 63.83621003344827,\n",
       " 64.90836528003709,\n",
       " 65.60771058296926,\n",
       " 66.08303390407497,\n",
       " 66.41368276344033,\n",
       " 66.64662522396917,\n",
       " 66.811906394324,\n",
       " 66.9296795471055,\n",
       " 67.01382848332247,\n",
       " 67.07406280699492]"
      ]
     },
     "execution_count": 14,
     "metadata": {},
     "output_type": "execute_result"
    }
   ],
   "source": [
    "yarr"
   ]
  },
  {
   "cell_type": "code",
   "execution_count": 15,
   "metadata": {},
   "outputs": [
    {
     "data": {
      "text/plain": [
       "[5340452.391731994,\n",
       " 5305197.22602055,\n",
       " 5291232.536347672,\n",
       " 5285119.846214692,\n",
       " 5282288.594349841,\n",
       " 5280932.66994307,\n",
       " 5280268.819062736,\n",
       " 5279938.739353577,\n",
       " 5279772.796671073,\n",
       " 5279688.709667381,\n",
       " 5279645.858855062]"
      ]
     },
     "execution_count": 15,
     "metadata": {},
     "output_type": "execute_result"
    }
   ],
   "source": [
    "total"
   ]
  },
  {
   "cell_type": "code",
   "execution_count": 16,
   "metadata": {},
   "outputs": [
    {
     "data": {
      "text/plain": [
       "[-35255.16571144387,\n",
       " -13964.689672878012,\n",
       " -6112.690132980235,\n",
       " -2831.2518648514524,\n",
       " -1355.9244067706168,\n",
       " -663.8508803341538,\n",
       " -330.0797091592103,\n",
       " -165.9426825037226,\n",
       " -84.08700369205326,\n",
       " -42.850812318734825]"
      ]
     },
     "execution_count": 16,
     "metadata": {},
     "output_type": "execute_result"
    }
   ],
   "source": [
    "razn=[]\n",
    "for i in range (1,len(total)):\n",
    "    razn.append(total[i]-total[i-1])\n",
    "razn\n"
   ]
  },
  {
   "cell_type": "code",
   "execution_count": 17,
   "metadata": {},
   "outputs": [
    {
     "name": "stderr",
     "output_type": "stream",
     "text": [
      "/var/folders/kc/_pnnz5815xl22vttbs_9clqc0000gn/T/ipykernel_38706/2949128485.py:8: UserWarning: color is redundantly defined by the 'color' keyword argument and the fmt string \"ro\" (-> color='r'). The keyword argument will take precedence.\n",
      "  plt.plot(50.31111111111111, 58.977777777777774,'ro',color = 'darkblue')\n"
     ]
    },
    {
     "data": {
      "image/png": "[encoded data removed]",
      "text/plain": [
       "<Figure size 640x480 with 1 Axes>"
      ]
     },
     "metadata": {},
     "output_type": "display_data"
    }
   ],
   "source": [
    "plt.title('Первоначальное положение склада')\n",
    "plt.text(24,80,'A (25,78)')\n",
    "plt.text(10,35.5,'B(10,34)')\n",
    "plt.text(73.5,87,'C(72,88)')\n",
    "plt.text(78,52,'D(85,50)')\n",
    "plt.text(65,20,'E(65,18)')\n",
    "plt.text(49.31111111111111, 60.977777777777774,'Склад (50,31;58,98)')\n",
    "plt.plot(50.31111111111111, 58.977777777777774,'ro',color = 'darkblue')\n",
    "plt.plot(x,y,'ro')\n",
    "plt.grid()\n",
    "plt.savefig(\"first.png\",dpi = 1000) \n",
    "plt.show()\n",
    "\n",
    "\n",
    "\n"
   ]
  },
  {
   "cell_type": "markdown",
   "metadata": {},
   "source": [
    "изменение положения склада"
   ]
  },
  {
   "cell_type": "code",
   "execution_count": 18,
   "metadata": {},
   "outputs": [
    {
     "name": "stderr",
     "output_type": "stream",
     "text": [
      "/var/folders/kc/_pnnz5815xl22vttbs_9clqc0000gn/T/ipykernel_38706/869074221.py:4: UserWarning: color is redundantly defined by the 'color' keyword argument and the fmt string \"b*\" (-> color='b'). The keyword argument will take precedence.\n",
      "  a=plt.plot(xarr,yarr,'b*',color = 'darkblue')\n"
     ]
    },
    {
     "data": {
      "image/png": "[encoded data removed]",
      "text/plain": [
       "<Figure size 640x480 with 1 Axes>"
      ]
     },
     "metadata": {},
     "output_type": "display_data"
    }
   ],
   "source": [
    "plt.axis([50,57,58,68])\n",
    "plt.title('Изменение положение склада')\n",
    "\n",
    "a=plt.plot(xarr,yarr,'b*',color = 'darkblue')\n",
    "plt.grid()\n",
    "plt.savefig(\"changes.png\",dpi = 1000) \n",
    "plt.show()\n",
    "\n"
   ]
  },
  {
   "cell_type": "markdown",
   "metadata": {},
   "source": [
    "Оптимальное положение склада\n"
   ]
  },
  {
   "cell_type": "code",
   "execution_count": 19,
   "metadata": {},
   "outputs": [
    {
     "name": "stderr",
     "output_type": "stream",
     "text": [
      "/var/folders/kc/_pnnz5815xl22vttbs_9clqc0000gn/T/ipykernel_38706/3926357379.py:9: UserWarning: color is redundantly defined by the 'color' keyword argument and the fmt string \"ro\" (-> color='r'). The keyword argument will take precedence.\n",
      "  plt.plot(56.20823461661167, 67.07406280699492,'ro',color = 'darkblue')\n"
     ]
    },
    {
     "data": {
      "image/png": "[encoded data removed]",
      "text/plain": [
       "<Figure size 640x480 with 1 Axes>"
      ]
     },
     "metadata": {},
     "output_type": "display_data"
    }
   ],
   "source": [
    "plt.title('Оптимальное положение склада')\n",
    "plt.text(24,80,'A (25,78)')\n",
    "plt.text(10,35.5,'B(10,34)')\n",
    "plt.text(73.5,87,'C(72,88)')\n",
    "plt.text(78,52,'D(85,50)')\n",
    "plt.text(65,20,'E(65,18)')\n",
    "plt.text(56.20823461661167, 69.07406280699492,'Склад (56,21;67,07)')\n",
    "\n",
    "plt.plot(56.20823461661167, 67.07406280699492,'ro',color = 'darkblue')\n",
    "plt.plot(x,y,'ro')\n",
    "plt.grid()\n",
    "plt.savefig(\"last.png\",dpi = 1000) \n",
    "plt.show()"
   ]
  },
  {
   "cell_type": "code",
   "execution_count": null,
   "metadata": {},
   "outputs": [],
   "source": []
  },
  {
   "cell_type": "code",
   "execution_count": null,
   "metadata": {},
   "outputs": [],
   "source": []
  }
 ],
 "metadata": {
  "kernelspec": {
   "display_name": "Python 3 (ipykernel)",
   "language": "python",
   "name": "python3"
  },
  "language_info": {
   "codemirror_mode": {
    "name": "ipython",
    "version": 3
   },
   "file_extension": ".py",
   "mimetype": "text/x-python",
   "name": "python",
   "nbconvert_exporter": "python",
   "pygments_lexer": "ipython3",
   "version": "3.10.9"
  }
 },
 "nbformat": 4,
 "nbformat_minor": 4
}
